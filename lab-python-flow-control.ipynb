{
 "cells": [
  {
   "cell_type": "markdown",
   "id": "d3bfc191-8885-42ee-b0a0-bbab867c6f9f",
   "metadata": {
    "tags": []
   },
   "source": [
    "# Lab | Flow Control"
   ]
  },
  {
   "cell_type": "markdown",
   "id": "3851fcd1-cf98-4653-9c89-e003b7ec9400",
   "metadata": {},
   "source": [
    "## Exercise: Managing Customer Orders Optimized\n",
    "\n",
    "In the last lab, you were starting an online store that sells various products. To ensure smooth operations, you developed a program that manages customer orders and inventory.\n",
    "\n",
    "You did so without using flow control. Let's go a step further and improve this code.\n",
    "\n",
    "Follow the steps below to complete the exercise:\n",
    "\n",
    "1. Look at your code from the lab data structures, and improve repeated code with loops.\n",
    "\n",
    "2. Instead of asking the user to input the name of three products that a customer wants to order, do the following:\n",
    "    \n",
    "    a. Prompt the user to enter the name of a product that a customer wants to order.\n",
    "    \n",
    "    b. Add the product name to the \"customer_orders\" set.\n",
    "    \n",
    "    c. Ask the user if they want to add another product (yes/no).\n",
    "    \n",
    "    d. Continue the loop until the user does not want to add another product.\n",
    "\n",
    "3. Instead of updating the inventory by subtracting 1 from the quantity of each product, only do it for  the products that were ordered (those in \"customer_orders\")."
   ]
  },
  {
   "cell_type": "code",
   "execution_count": 36,
   "id": "570c89ec",
   "metadata": {},
   "outputs": [
    {
     "data": {
      "text/plain": [
       "{'t-shirt': 8, 'mug': 7, 'hat': 6, 'book': 5, 'keychain': 4}"
      ]
     },
     "execution_count": 36,
     "metadata": {},
     "output_type": "execute_result"
    }
   ],
   "source": [
    "#Paso 1\n",
    "inventory = {}\n",
    "products = [\"t-shirt\", \"mug\", \"hat\", \"book\", \"keychain\"]\n",
    "\n",
    "for product in products:\n",
    "    cantidad = int(input(F\"Introduce la cantidad de {product}\"))\n",
    "    inventory[product] = cantidad\n",
    "\n",
    "inventory\n"
   ]
  },
  {
   "cell_type": "code",
   "execution_count": 29,
   "id": "4d62669f",
   "metadata": {},
   "outputs": [
    {
     "data": {
      "text/plain": [
       "{'book', 'hat', 'mug'}"
      ]
     },
     "execution_count": 29,
     "metadata": {},
     "output_type": "execute_result"
    }
   ],
   "source": [
    "#Paso 2\n",
    "customer_orders = set()\n",
    "añadir_producto = \"yes\"\n",
    "\n",
    "while añadir_producto.lower() == \"yes\":\n",
    "    nombre_producto = input(\"Introduce el nombre de un producto que el cliente quiera pedir:\")\n",
    "    customer_orders.add(nombre_producto)\n",
    "    añadir_producto = input(\"¿Quieres añadir otro producto (yes/no?)\")\n",
    "\n",
    "customer_orders"
   ]
  },
  {
   "cell_type": "code",
   "execution_count": 37,
   "id": "d25ad7e8",
   "metadata": {},
   "outputs": [
    {
     "name": "stdout",
     "output_type": "stream",
     "text": [
      "{'t-shirt': 8, 'mug': 6, 'hat': 5, 'book': 4, 'keychain': 4}\n"
     ]
    }
   ],
   "source": [
    "#Paso 3\n",
    "\n",
    "for product in inventory:\n",
    "    if product in customer_orders:\n",
    "        inventory[product] -= 1\n",
    "\n",
    "print(inventory)"
   ]
  }
 ],
 "metadata": {
  "kernelspec": {
   "display_name": "Python 3 (ipykernel)",
   "language": "python",
   "name": "python3"
  },
  "language_info": {
   "codemirror_mode": {
    "name": "ipython",
    "version": 3
   },
   "file_extension": ".py",
   "mimetype": "text/x-python",
   "name": "python",
   "nbconvert_exporter": "python",
   "pygments_lexer": "ipython3",
   "version": "3.9.6"
  }
 },
 "nbformat": 4,
 "nbformat_minor": 5
}
